{
 "cells": [
  {
   "cell_type": "markdown",
   "id": "80f6e260-0c1f-43fb-b9fd-fc29a5e66942",
   "metadata": {},
   "source": [
    "# DM-35005 - Checking new simulated data\n",
    "\n",
    "We need two more targets to run the LVV-T2229 test case properly.  \n",
    "Right now, we have an intra/extra-focus image at `20:28:18.74 -87:28:19.9` with PA=0º.\n",
    "\n",
    "The [DM-35005] was created to hold up information about the creation of these new data.  \n",
    "These new two targets need to be close (< 9 deg) and far from the target above (> 9 deg).  \n",
    "This way, we can test it the mtaos will use the corrections from the initial target or not.   \n",
    "\n",
    "Here are the coordinates of these two targets:\n",
    "\n",
    "`20:37:32.54 -88:06:38.61` (close from the original target)  \n",
    "`08:54:44.60 -83:25:33.66` (far from the original target)\n",
    "\n",
    "[DM-35005]: https://jira.lsstcorp.org/browse/DM-35005"
   ]
  },
  {
   "cell_type": "markdown",
   "id": "31d3d2c9-da53-4e8c-b7df-5d3bf31f5a34",
   "metadata": {},
   "source": [
    "## Import Libraries"
   ]
  },
  {
   "cell_type": "markdown",
   "id": "554dd4bb-c0f8-4767-8be8-d0cb24712a07",
   "metadata": {},
   "source": [
    "These are the libraries that we will use in this notebook. First, we need to use the [lsst.daf.butler.Butler].\n",
    "\n",
    "[lsst.daf.butler.Butler]: https://pipelines.lsst.io/modules/lsst.obs.decam/using-obs-decam.html#local-repository-setup"
   ]
  },
  {
   "cell_type": "code",
   "execution_count": 21,
   "id": "e5db02d7-a089-4314-a486-f8ba38ea8e93",
   "metadata": {},
   "outputs": [
    {
     "name": "stdout",
     "output_type": "stream",
     "text": [
      "The autoreload extension is already loaded. To reload it, use:\n",
      "  %reload_ext autoreload\n"
     ]
    }
   ],
   "source": [
    "%load_ext autoreload\n",
    "%autoreload 2\n",
    "\n",
    "import os\n",
    "import numpy as np\n",
    "import matplotlib.pyplot as plt\n",
    "\n",
    "from astropy import units as u\n",
    "from astropy.coordinates import SkyCoord\n",
    "\n",
    "import lsst.daf.butler  as dafButler"
   ]
  },
  {
   "cell_type": "markdown",
   "id": "170bc328-1ec9-42a2-bb1d-13fd000fe36b",
   "metadata": {},
   "source": [
    "## Defining a Local Butler Repository\n",
    "\n",
    "Since I am trying to do this \"the right way\", I will try to use Butler for check on the data.  \n",
    "For this, I will create a local repository using the documentation in the [Local Repository Setup] page.\n",
    "\n",
    "[Local Repository Setup]: https://pipelines.lsst.io/modules/lsst.obs.decam/using-obs-decam.html#local-repository-setup\n",
    "\n",
    "Use the following commands to enable the science pipeline within Nublado:\n",
    "```\n",
    "$ source /sdf/group/rubin/sw/w_latest/loadLSST.bash \n",
    "$ setup lsst_distrib\n",
    "```\n",
    "\n",
    "Then create an empty Butler repository:\n",
    "```\n",
    "$ cd ~/u/\n",
    "$ butler create DM-35005\n",
    "$ butler register-instrument DM-35005 lsst.obs.lsst.LsstComCam\n",
    "```\n",
    "\n",
    "Now we can copy the data to it. \n",
    "\n",
    "The data for `20:37:32.54 -88:06:38.61.   309.3855833 -88.1107250` were at:\n",
    "* Intra focal fits files `/project/aos/closed_loop_high/comcam_111240/iter0/img/intra/`\n",
    "* Extra focal fits files `/project/aos/closed_loop_high/comcam_111240/iter0/img/extra/`\n",
    "* Infocus images `/project/aos/closed_loop_high/comcam_111240/infocus-repackaged/`\n",
    "\n",
    "The data for `08:54:44.60 -83:25:33.66  133.6858333 -83.4260167` were at \n",
    "`/project/aos/closed_loop_high/comcam_111250/` same sub directories as above. \n",
    "\n",
    "I made a copy of these files in my user's home folder with the commands:\n",
    "```\n",
    "$ cp -R /sdf/group/rubin/ncsa-project/project/aos/closed_loop_high/comcam_111240 ~/u/DM-35005/\n",
    "$ cp -R /sdf/group/rubin/ncsa-project/project/aos/closed_loop_high/comcam_111250 ~/u/DM-35005/\n",
    "```\n",
    "\n",
    "Where REPO is the name of the repository.\n",
    "\n",
    "Ingest the data in the repository with the following command:\n",
    "```\n",
    "$ butler ingest-raws DM-35005 DM-35005/comcam_111240/iter0/img/intra/*.fits --transfer link\n",
    "$ butler ingest-raws DM-35005 DM-35005/comcam_111240/iter0/img/extra/*.fits --transfer link\n",
    "$ butler ingest-raws DM-35005 DM-35005/comcam_111240/infocus-repackaged/*[0-2].fits --transfer link\n",
    "$ butler ingest-raws DM-35005 DM-35005/comcam_111250/iter0/img/intra/*.fits --transfer link\n",
    "$ butler ingest-raws DM-35005 DM-35005/comcam_111250/iter0/img/extra/*.fits --transfer link\n",
    "$ butler ingest-raws DM-35005 DM-35005/comcam_111250/infocus-repackaged/*.fits --transfer link\n",
    "```\n",
    "\n",
    "When executed in order, the first two lines above are accepted with the following message (or something very similaar):\n",
    "```\n",
    "$ butler ingest-raws DM-35005 DM-35005/comcam_111240/iter0/img/extra/*.fits --transfer link\n",
    "lsst.ingest INFO: Successfully extracted metadata from 9 files with 0 failures\n",
    "lsst.ingest INFO: Exposure LSSTComCam:CC_H_20211231_006001 ingested successfully\n",
    "lsst.ingest INFO: Successfully processed data from 1 exposure with 0 failures from exposure registration and 0 failures from file ingest.\n",
    "lsst.ingest INFO: Ingested 9 distinct Butler datasets\n",
    "```\n",
    "\n",
    "The third command fails with the following message:\n",
    "```\n",
    "$ butler ingest-raws DM-35005 DM-35005/comcam_111240/infocus-repackaged/*[0-2].fits --transfer link\n",
    "lsst.ingest INFO: Successfully extracted metadata from 9 files with 0 failures\n",
    "lsst.ingest WARNING: Failed to ingest the following for reason: A database constraint failure was triggered by inserting one or more datasets of type DatasetType('raw', {band, instrument, detector, physical_filter, exposure}, Exposure) into collection 'LSSTComCam/raw/all'. This probably means a dataset with the same data ID and dataset type already exists, but it may also mean a dimension row is missing.\n",
    "lsst.ingest WARNING: - file:///sdf/data/rubin/u/bquint/DM-35005/comcam_111240/infocus-repackaged/CC_H_20211231_006001_R22_S11.fits\n",
    "lsst.ingest WARNING: - file:///sdf/data/rubin/u/bquint/DM-35005/comcam_111240/infocus-repackaged/CC_H_20211231_006001_R22_S00.fits\n",
    "lsst.ingest WARNING: - file:///sdf/data/rubin/u/bquint/DM-35005/comcam_111240/infocus-repackaged/CC_H_20211231_006001_R22_S12.fits\n",
    "lsst.ingest WARNING: - file:///sdf/data/rubin/u/bquint/DM-35005/comcam_111240/infocus-repackaged/CC_H_20211231_006001_R22_S21.fits\n",
    "lsst.ingest WARNING: - file:///sdf/data/rubin/u/bquint/DM-35005/comcam_111240/infocus-repackaged/CC_H_20211231_006001_R22_S02.fits\n",
    "lsst.ingest WARNING: - file:///sdf/data/rubin/u/bquint/DM-35005/comcam_111240/infocus-repackaged/CC_H_20211231_006001_R22_S01.fits\n",
    "lsst.ingest WARNING: - file:///sdf/data/rubin/u/bquint/DM-35005/comcam_111240/infocus-repackaged/CC_H_20211231_006001_R22_S20.fits\n",
    "lsst.ingest WARNING: - file:///sdf/data/rubin/u/bquint/DM-35005/comcam_111240/infocus-repackaged/CC_H_20211231_006001_R22_S22.fits\n",
    "lsst.ingest WARNING: - file:///sdf/data/rubin/u/bquint/DM-35005/comcam_111240/infocus-repackaged/CC_H_20211231_006001_R22_S10.fits\n",
    "lsst.ingest INFO: Successfully processed data from 0 exposures with 0 failures from exposure registration and 1 failure from file ingest.\n",
    "lsst.ingest INFO: Ingested 0 distinct Butler datasets\n",
    "lsst.daf.butler.cli.utils ERROR: Caught an exception, details are in traceback:\n",
    "Traceback (most recent call last):\n",
    "  File \"/opt/lsst/software/stack/stack/miniconda3-py38_4.9.2-4.1.0/Linux64/obs_base/g188f660963+e1f1daa193/python/lsst/obs/base/cli/cmd/commands.py\", line 144, in ingest_raws\n",
    "    script.ingestRaws(*args, **kwargs)\n",
    "  File \"/opt/lsst/software/stack/stack/miniconda3-py38_4.9.2-4.1.0/Linux64/obs_base/g188f660963+e1f1daa193/python/lsst/obs/base/script/ingestRaws.py\", line 92, in ingestRaws\n",
    "    ingester.run(\n",
    "  File \"/opt/lsst/software/stack/stack/miniconda3-py38_4.9.2-4.1.0/Linux64/utils/g6f6f670c95+16108f2031/python/lsst/utils/timer.py\", line 347, in timeMethod_wrapper\n",
    "    res = func(self, *args, **keyArgs)\n",
    "  File \"/opt/lsst/software/stack/stack/miniconda3-py38_4.9.2-4.1.0/Linux64/obs_base/g188f660963+e1f1daa193/python/lsst/obs/base/ingest.py\", line 1374, in run\n",
    "    raise RuntimeError(\"Some failures encountered during ingestion\")\n",
    "RuntimeError: Some failures encountered during ingestion\n",
    "```\n",
    "\n",
    "The fourth command fails with the following message:\n",
    "```\n",
    "$ butler ingest-raws DM-35005 DM-35005/comcam_111250/iter0/img/intra/*.fits --transfer link\n",
    "lsst.ingest INFO: Successfully extracted metadata from 9 files with 0 failures\n",
    "lsst.ingest WARNING: Exposure LSSTComCam:CC_H_20211231_006002 could not be registered: Conflict in sync for table exposure on column(s) tracking_ra: 309.385583 != 133.685833, tracking_dec: -88.110725 != -83.426017.\n",
    "lsst.ingest INFO: Successfully processed data from 0 exposures with 1 failure from exposure registration and 0 failures from file ingest.\n",
    "lsst.ingest INFO: Ingested 0 distinct Butler datasets\n",
    "lsst.daf.butler.cli.utils ERROR: Caught an exception, details are in traceback:\n",
    "Traceback (most recent call last):\n",
    "  File \"/opt/lsst/software/stack/stack/miniconda3-py38_4.9.2-4.1.0/Linux64/obs_base/g188f660963+e1f1daa193/python/lsst/obs/base/cli/cmd/commands.py\", line 144, in ingest_raws\n",
    "    script.ingestRaws(*args, **kwargs)\n",
    "  File \"/opt/lsst/software/stack/stack/miniconda3-py38_4.9.2-4.1.0/Linux64/obs_base/g188f660963+e1f1daa193/python/lsst/obs/base/script/ingestRaws.py\", line 92, in ingestRaws\n",
    "    ingester.run(\n",
    "  File \"/opt/lsst/software/stack/stack/miniconda3-py38_4.9.2-4.1.0/Linux64/utils/g6f6f670c95+16108f2031/python/lsst/utils/timer.py\", line 347, in timeMethod_wrapper\n",
    "    res = func(self, *args, **keyArgs)\n",
    "  File \"/opt/lsst/software/stack/stack/miniconda3-py38_4.9.2-4.1.0/Linux64/obs_base/g188f660963+e1f1daa193/python/lsst/obs/base/ingest.py\", line 1374, in run\n",
    "    raise RuntimeError(\"Some failures encountered during ingestion\")\n",
    "RuntimeError: Some failures encountered during ingestion\n",
    "```"
   ]
  },
  {
   "cell_type": "markdown",
   "id": "d2d888a0-a24f-4df5-8e78-043e74674219",
   "metadata": {},
   "source": [
    "## Check the local repository"
   ]
  },
  {
   "cell_type": "code",
   "execution_count": 31,
   "id": "ae6d88dc-9ef9-41bf-bef2-97f1f1f8aea4",
   "metadata": {},
   "outputs": [],
   "source": [
    "butler = dafButler.Butler(f\"{os.getenv('HOME')}/u/DM-35005/\")\n",
    "registry = butler.registry"
   ]
  },
  {
   "cell_type": "code",
   "execution_count": 32,
   "id": "ca9aa926-660f-4510-9ff1-86afc682613f",
   "metadata": {},
   "outputs": [
    {
     "name": "stdout",
     "output_type": "stream",
     "text": [
      "LSSTComCam/raw/all\n"
     ]
    }
   ],
   "source": [
    "for c in sorted(registry.queryCollections()):\n",
    "    print(c)"
   ]
  },
  {
   "cell_type": "code",
   "execution_count": 33,
   "id": "043da7b8-1ebc-4b0c-9a16-e436558e9d4d",
   "metadata": {},
   "outputs": [
    {
     "name": "stdout",
     "output_type": "stream",
     "text": [
      "DatasetType('raw', {band, instrument, detector, physical_filter, exposure}, Exposure)\n"
     ]
    }
   ],
   "source": [
    "for x in sorted(registry.queryDatasetTypes()):\n",
    "    print(x)"
   ]
  },
  {
   "cell_type": "code",
   "execution_count": 34,
   "id": "c5e0d21d-ea2b-4a76-a705-fd7fa19101b1",
   "metadata": {},
   "outputs": [
    {
     "name": "stdout",
     "output_type": "stream",
     "text": [
      "{band: 'g', instrument: 'LSSTComCam', detector: 0, physical_filter: 'g_01', exposure: 4021123106001}\n",
      "{band: 'g', instrument: 'LSSTComCam', detector: 8, physical_filter: 'g_01', exposure: 4021123106001}\n",
      "{band: 'g', instrument: 'LSSTComCam', detector: 5, physical_filter: 'g_01', exposure: 4021123106001}\n",
      "{band: 'g', instrument: 'LSSTComCam', detector: 4, physical_filter: 'g_01', exposure: 4021123106001}\n",
      "{band: 'g', instrument: 'LSSTComCam', detector: 3, physical_filter: 'g_01', exposure: 4021123106001}\n",
      "{band: 'g', instrument: 'LSSTComCam', detector: 7, physical_filter: 'g_01', exposure: 4021123106001}\n",
      "{band: 'g', instrument: 'LSSTComCam', detector: 1, physical_filter: 'g_01', exposure: 4021123106001}\n",
      "{band: 'g', instrument: 'LSSTComCam', detector: 6, physical_filter: 'g_01', exposure: 4021123106001}\n",
      "{band: 'g', instrument: 'LSSTComCam', detector: 2, physical_filter: 'g_01', exposure: 4021123106001}\n",
      "{band: 'g', instrument: 'LSSTComCam', detector: 1, physical_filter: 'g_01', exposure: 4021123106002}\n",
      "{band: 'g', instrument: 'LSSTComCam', detector: 5, physical_filter: 'g_01', exposure: 4021123106002}\n",
      "{band: 'g', instrument: 'LSSTComCam', detector: 6, physical_filter: 'g_01', exposure: 4021123106002}\n",
      "{band: 'g', instrument: 'LSSTComCam', detector: 0, physical_filter: 'g_01', exposure: 4021123106002}\n",
      "{band: 'g', instrument: 'LSSTComCam', detector: 3, physical_filter: 'g_01', exposure: 4021123106002}\n",
      "{band: 'g', instrument: 'LSSTComCam', detector: 2, physical_filter: 'g_01', exposure: 4021123106002}\n",
      "{band: 'g', instrument: 'LSSTComCam', detector: 7, physical_filter: 'g_01', exposure: 4021123106002}\n",
      "{band: 'g', instrument: 'LSSTComCam', detector: 8, physical_filter: 'g_01', exposure: 4021123106002}\n",
      "{band: 'g', instrument: 'LSSTComCam', detector: 4, physical_filter: 'g_01', exposure: 4021123106002}\n"
     ]
    }
   ],
   "source": [
    "# You can also sub-select on specific properties of a data set\n",
    "datasetRefs = registry.queryDatasets(datasetType='raw', collections=\"LSSTComCam/raw/all\")\n",
    "\n",
    "for i,ref in enumerate(datasetRefs):\n",
    "    print(ref.dataId.full)"
   ]
  },
  {
   "cell_type": "markdown",
   "id": "e154fa78-67eb-49f0-884f-de1ed95c9f96",
   "metadata": {},
   "source": [
    "## Check Coordinates"
   ]
  },
  {
   "cell_type": "code",
   "execution_count": 35,
   "id": "1932511d-ce2d-447e-9776-ff95379d0e84",
   "metadata": {},
   "outputs": [],
   "source": [
    "original_field = SkyCoord(\"20:28:18.74 -87:28:19.9\", unit=(u.hourangle, u.deg))\n",
    "close_field = SkyCoord(\"20:37:32.54 -88:06:38.61\", unit=(u.hourangle, u.deg))\n",
    "far_field = SkyCoord(\"08:54:44.60 -83:25:33.66\", unit=(u.hourangle, u.deg))"
   ]
  },
  {
   "cell_type": "markdown",
   "id": "61fdfe4c-7ad4-49fc-9888-9ea3d49c0d86",
   "metadata": {},
   "source": [
    "## Check Close Field"
   ]
  },
  {
   "cell_type": "code",
   "execution_count": null,
   "id": "f1442172-1beb-4313-b2a6-9274ae5817b0",
   "metadata": {},
   "outputs": [],
   "source": []
  },
  {
   "cell_type": "markdown",
   "id": "84c5379b-5985-4845-aadc-922c75675176",
   "metadata": {},
   "source": [
    "## Check Far Field"
   ]
  },
  {
   "cell_type": "code",
   "execution_count": null,
   "id": "677dbe3c-8940-4a7d-b684-c87519a4db86",
   "metadata": {},
   "outputs": [],
   "source": []
  }
 ],
 "metadata": {
  "kernelspec": {
   "display_name": "LSST",
   "language": "python",
   "name": "lsst"
  },
  "language_info": {
   "codemirror_mode": {
    "name": "ipython",
    "version": 3
   },
   "file_extension": ".py",
   "mimetype": "text/x-python",
   "name": "python",
   "nbconvert_exporter": "python",
   "pygments_lexer": "ipython3",
   "version": "3.10.5"
  }
 },
 "nbformat": 4,
 "nbformat_minor": 5
}

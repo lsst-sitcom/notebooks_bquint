{
 "cells": [
  {
   "cell_type": "markdown",
   "id": "3f2bcb69-fc8f-4c35-a747-b450028302c7",
   "metadata": {},
   "source": [
    "# TMA Max Speed"
   ]
  },
  {
   "cell_type": "code",
   "execution_count": null,
   "id": "f678ca9d-dab2-45a3-8df9-ab1add4f77a4",
   "metadata": {
    "tags": []
   },
   "outputs": [],
   "source": [
    "%load_ext autoreload\n",
    "%autoreload 2\n",
    "%load_ext lab_black"
   ]
  },
  {
   "cell_type": "code",
   "execution_count": null,
   "id": "79ad2d51-e00a-426e-801e-b011c192cd2c",
   "metadata": {
    "tags": []
   },
   "outputs": [],
   "source": [
    "import pandas as pd\n",
    "import matplotlib.pyplot as plt\n",
    "import numpy as np\n",
    "\n",
    "from lsst.summit.utils.tmaUtils import TMAEventMaker, TMAState\n",
    "from lsst.summit.utils.efdUtils import getEfdData, makeEfdClient\n",
    "\n",
    "from datetime import timezone\n",
    "from pathlib import Path\n",
    "\n",
    "\n",
    "import warnings\n",
    "\n",
    "warnings.filterwarnings(\"ignore\")"
   ]
  },
  {
   "cell_type": "code",
   "execution_count": null,
   "id": "7de5f0fa-6935-4f7c-84a5-db3ac732bbd6",
   "metadata": {
    "tags": []
   },
   "outputs": [],
   "source": [
    "client = makeEfdClient()\n",
    "\n",
    "dayObs = \"\"  # empty for now\n",
    "file_pattern = f\"max_slew_velocity_{dayObs}.png\"\n",
    "plot_folder = Path(\"./plots\")\n",
    "plot_folder.mkdir(exist_ok=True, parents=True)"
   ]
  },
  {
   "cell_type": "markdown",
   "id": "c53cf1df-23c0-43fe-8bc3-02cbc1864308",
   "metadata": {},
   "source": [
    "## Helper Functions"
   ]
  },
  {
   "cell_type": "code",
   "execution_count": null,
   "id": "d0ef7638-3b71-4c7f-9267-bd245faefb4a",
   "metadata": {
    "tags": []
   },
   "outputs": [],
   "source": [
    "def get_events(day_obs, event_maker):\n",
    "    events = event_maker.getEvents(dayObs)\n",
    "\n",
    "    # Get lists of slew and track events\n",
    "    slews = [e for e in events if e.type == TMAState.SLEWING]\n",
    "    tracks = [e for e in events if e.type == TMAState.TRACKING]\n",
    "    print(f\"Found {len(slews)} slews and {len(tracks)} tracks\")\n",
    "\n",
    "    return events"
   ]
  },
  {
   "cell_type": "code",
   "execution_count": null,
   "id": "3d3b47c2-7f67-45bf-9609-a29076edd38b",
   "metadata": {
    "tags": []
   },
   "outputs": [],
   "source": [
    "async def query_efd(events):\n",
    "    az = await client.select_time_series(\n",
    "        topic_name=\"lsst.sal.MTMount.azimuth\",\n",
    "        fields=[\"actualPosition\", \"actualVelocity\", \"timestamp\"],\n",
    "        start=events[0].begin,\n",
    "        end=events[-1].end,\n",
    "    )\n",
    "\n",
    "    el = await client.select_time_series(\n",
    "        topic_name=\"lsst.sal.MTMount.elevation\",\n",
    "        fields=[\"actualPosition\", \"actualVelocity\", \"timestamp\"],\n",
    "        start=events[0].begin,\n",
    "        end=events[-1].end,\n",
    "    )\n",
    "\n",
    "    return az, el"
   ]
  },
  {
   "cell_type": "code",
   "execution_count": null,
   "id": "c2ce1e9d-05a3-4a04-b2a3-f6b76a0ffa73",
   "metadata": {
    "tags": []
   },
   "outputs": [],
   "source": [
    "def get_max_azel_velocity(events, az, el):\n",
    "    columns = [\"seq_num\", \"begin\", \"end\", \"max_az_vel\", \"max_el_vel\"]\n",
    "    data = []\n",
    "\n",
    "    for e in events:\n",
    "        if e.type == TMAState.SLEWING:\n",
    "            begin = e.begin.datetime.replace(tzinfo=timezone.utc)\n",
    "            end = e.end.datetime.replace(tzinfo=timezone.utc)\n",
    "\n",
    "            max_az_vel = az[begin:end][\"actualVelocity\"].max()\n",
    "            max_el_vel = el[begin:end][\"actualVelocity\"].max()\n",
    "\n",
    "            data_to_append = [e.seqNum, e.begin.iso, e.end.iso, max_az_vel, max_el_vel]\n",
    "            data.append({col: data_to_append[i] for i, col in enumerate(columns)})\n",
    "\n",
    "    df = pd.DataFrame(data)\n",
    "    df = df[df.max_az_vel < 11.0]\n",
    "    df = df[df.max_el_vel < 11.0]\n",
    "    df.describe()\n",
    "\n",
    "    return df"
   ]
  },
  {
   "cell_type": "code",
   "execution_count": null,
   "id": "702b2a18-29fa-4370-a85f-bc5034152582",
   "metadata": {
    "tags": []
   },
   "outputs": [],
   "source": [
    "def plot_histogram(df, dayObs):\n",
    "    fig, axs = plt.subplots(num=f\"slew_histogram_{dayObs}\", ncols=2, sharey=True)\n",
    "\n",
    "    axs[0].hist(df[\"max_az_vel\"], log=True, color=\"cornflowerblue\", ec=\"white\")\n",
    "    axs[0].set_ylabel(\"Number of Slews\")\n",
    "    axs[0].set_xlabel(\"Maximum Velocity\\n in Azimuth [deg/s]\")\n",
    "    axs[0].grid(\":\", alpha=0.25)\n",
    "\n",
    "    axs[1].hist(df[\"max_el_vel\"], log=True, color=\"firebrick\", ec=\"white\")\n",
    "    axs[1].set_xlabel(\"Maximum Velocity\\n in Elevation [deg/s]\")\n",
    "    axs[1].grid(\":\", alpha=0.25)\n",
    "\n",
    "    fig.suptitle(f\"Maximum Slew Velocity on\\n{dayObs}\")\n",
    "    fig.tight_layout()\n",
    "    plt.show()\n",
    "\n",
    "    filename = str(plot_folder / file_pattern.format(dayObs=dayObs))\n",
    "    print(filename)\n",
    "    fig.savefig(filename)"
   ]
  },
  {
   "cell_type": "markdown",
   "id": "ae52f6d5-f2fe-4884-9ab8-7ef3514de1ef",
   "metadata": {},
   "source": [
    "# Single Day Obs Analysis"
   ]
  },
  {
   "cell_type": "code",
   "execution_count": null,
   "id": "87821852-72e8-4705-86d7-41687098f8da",
   "metadata": {
    "tags": []
   },
   "outputs": [],
   "source": [
    "dayObs = 20231124"
   ]
  },
  {
   "cell_type": "code",
   "execution_count": null,
   "id": "f27c5c77-2775-4249-9b81-646d144d71de",
   "metadata": {
    "tags": []
   },
   "outputs": [],
   "source": [
    "events = get_events(dayObs, eventMaker)"
   ]
  },
  {
   "cell_type": "code",
   "execution_count": null,
   "id": "756cd979-02da-4fb7-b62f-0b45b3375291",
   "metadata": {
    "tags": []
   },
   "outputs": [],
   "source": [
    "az, el = await query_efd(events)"
   ]
  },
  {
   "cell_type": "code",
   "execution_count": null,
   "id": "f2db00e2-7b23-4999-bdce-a974be9f6a09",
   "metadata": {
    "tags": []
   },
   "outputs": [],
   "source": [
    "df = get_max_azel_velocity(events, az, el)"
   ]
  },
  {
   "cell_type": "code",
   "execution_count": null,
   "id": "6b979e65-0763-45f8-9f15-4b952a52ec87",
   "metadata": {
    "tags": []
   },
   "outputs": [],
   "source": [
    "%matplotlib inline\n",
    "plot_histogram(df, dayObs)"
   ]
  },
  {
   "cell_type": "markdown",
   "id": "702bed16-8da6-4801-aa9c-ed01b13d82c9",
   "metadata": {},
   "source": [
    "## Multiple Day Obs Analysis"
   ]
  },
  {
   "cell_type": "code",
   "execution_count": null,
   "id": "28dc36e0-42bd-456d-b9b8-63f11ae364aa",
   "metadata": {
    "tags": []
   },
   "outputs": [],
   "source": [
    "day_obs_list = [\n",
    "    # 20231119,\n",
    "    # 20231120,\n",
    "    # 20231121,\n",
    "    # 20231122,\n",
    "    # 20231123,\n",
    "    20231124\n",
    "]"
   ]
  },
  {
   "cell_type": "code",
   "execution_count": null,
   "id": "a6a1e793-1a37-4405-b4f5-513a7055794e",
   "metadata": {
    "tags": []
   },
   "outputs": [],
   "source": [
    "%matplotlib inline\n",
    "eventMaker = TMAEventMaker()\n",
    "\n",
    "for dayObs in day_obs_list:\n",
    "    events = get_events(dayObs, eventMaker)\n",
    "    az, el = await query_efd(events)\n",
    "    df = get_max_azel_velocity(events, az, el)\n",
    "    plot_histogram(df, dayObs)"
   ]
  },
  {
   "cell_type": "code",
   "execution_count": null,
   "id": "70023d4d-245b-4562-8d65-a853c6179da3",
   "metadata": {},
   "outputs": [],
   "source": []
  }
 ],
 "metadata": {
  "kernelspec": {
   "display_name": "LSST",
   "language": "python",
   "name": "lsst"
  },
  "language_info": {
   "codemirror_mode": {
    "name": "ipython",
    "version": 3
   },
   "file_extension": ".py",
   "mimetype": "text/x-python",
   "name": "python",
   "nbconvert_exporter": "python",
   "pygments_lexer": "ipython3",
   "version": "3.11.4"
  }
 },
 "nbformat": 4,
 "nbformat_minor": 5
}
